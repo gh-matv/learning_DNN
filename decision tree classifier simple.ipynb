{
 "cells": [
  {
   "cell_type": "code",
   "execution_count": 3,
   "metadata": {
    "collapsed": true
   },
   "outputs": [],
   "source": [
    "from sklearn import tree\n",
    "import sys\n",
    "from io import StringIO #python3. For python2, it's from StringIO\n",
    "import pandas as pd"
   ]
  },
  {
   "cell_type": "code",
   "execution_count": 5,
   "metadata": {},
   "outputs": [],
   "source": [
    "inp_data = StringIO(\n",
    "    \"\"\"size,weight,shoe_size,sex\n",
    "181,80,44,male\n",
    "177,40,43,male\n",
    "160,60,38,female\n",
    "154,54,37,female\n",
    "166,65,40,male\n",
    "190,90,47,male\n",
    "175,64,39,female\n",
    "177,70,40,female\n",
    "159,55,37,female\n",
    "171,75,42,male\n",
    "181,85,43,male\"\"\")\n",
    "\n",
    "data = pd.read_csv(inp_data)"
   ]
  },
  {
   "cell_type": "code",
   "execution_count": 6,
   "metadata": {
    "collapsed": true
   },
   "outputs": [],
   "source": [
    "X = data[[\"size\", \"weight\", \"shoe_size\"]]\n",
    "Y = data[[\"sex\"]]"
   ]
  },
  {
   "cell_type": "code",
   "execution_count": 12,
   "metadata": {},
   "outputs": [
    {
     "data": {
      "text/plain": [
       "'male'"
      ]
     },
     "execution_count": 12,
     "metadata": {},
     "output_type": "execute_result"
    }
   ],
   "source": [
    "t = tree.DecisionTreeClassifier()\n",
    "t.fit(X, Y)\n",
    "\n",
    "t.predict([[180, 90, 45]])[0]"
   ]
  },
  {
   "cell_type": "code",
   "execution_count": null,
   "metadata": {
    "collapsed": true
   },
   "outputs": [],
   "source": []
  }
 ],
 "metadata": {
  "kernelspec": {
   "display_name": "Python 3",
   "language": "python",
   "name": "python3"
  },
  "language_info": {
   "codemirror_mode": {
    "name": "ipython",
    "version": 3
   },
   "file_extension": ".py",
   "mimetype": "text/x-python",
   "name": "python",
   "nbconvert_exporter": "python",
   "pygments_lexer": "ipython3",
   "version": "3.5.2"
  }
 },
 "nbformat": 4,
 "nbformat_minor": 2
}
