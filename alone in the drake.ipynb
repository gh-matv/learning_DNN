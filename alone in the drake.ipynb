{
 "cells": [
  {
   "cell_type": "code",
   "execution_count": 92,
   "metadata": {
    "collapsed": true
   },
   "outputs": [],
   "source": [
    "import math"
   ]
  },
  {
   "cell_type": "code",
   "execution_count": 104,
   "metadata": {
    "collapsed": true
   },
   "outputs": [],
   "source": [
    "class my_NearestNeighbourg:\n",
    "    \n",
    "    def dist(_, a, b, c):\n",
    "        return math.sqrt(a*a+b*b+c*c)\n",
    "    \n",
    "    def train(this, X, Y):\n",
    "        this.x = X\n",
    "        this.y = Y\n",
    "        return\n",
    "    \n",
    "    def predict(this, Points):\n",
    "        ret = []\n",
    "        x = this.x\n",
    "        for p in Points:\n",
    "            closest_distance = this.dist(p[0]-x[0][0], p[1]-x[0][1], p[2]-x[0][2])\n",
    "            closest_id = 0\n",
    "            for j in range(1, len(this.x)):\n",
    "                local_closest = this.dist(p[0]-x[j][0], p[1]-x[j][1], p[2]-x[j][2])\n",
    "                if(local_closest < closest_distance):\n",
    "                    closest_distance = local_closest\n",
    "                    closest_id = j\n",
    "            ret.append(this.y[closest_id]) # return the sex of the member with that id\n",
    "        return ret"
   ]
  },
  {
   "cell_type": "code",
   "execution_count": 105,
   "metadata": {
    "collapsed": true
   },
   "outputs": [],
   "source": [
    "X = [[181, 80, 44], [177, 40, 43], [160, 60, 38], [154, 54, 37], [166,65,40], [190, 90, 47],\n",
    "     [175, 64, 39], [177, 70, 40], [195, 55, 37], [171, 75, 42], [181, 85, 43]]\n",
    "Y = [0,0,1,1,0,0,1,1,1,0,0] # 0 = man, 1 = woman"
   ]
  },
  {
   "cell_type": "code",
   "execution_count": 110,
   "metadata": {
    "collapsed": true
   },
   "outputs": [],
   "source": [
    "network = my_NearestNeighbourg()\n",
    "network.train(X, Y)"
   ]
  },
  {
   "cell_type": "code",
   "execution_count": 111,
   "metadata": {},
   "outputs": [
    {
     "data": {
      "text/plain": [
       "[0, 1]"
      ]
     },
     "execution_count": 111,
     "metadata": {},
     "output_type": "execute_result"
    }
   ],
   "source": [
    "network.predict([[181, 80, 54], [191, 53, 35]])"
   ]
  },
  {
   "cell_type": "code",
   "execution_count": null,
   "metadata": {
    "collapsed": true
   },
   "outputs": [],
   "source": []
  }
 ],
 "metadata": {
  "kernelspec": {
   "display_name": "Python 3",
   "language": "python",
   "name": "python3"
  },
  "language_info": {
   "codemirror_mode": {
    "name": "ipython",
    "version": 3
   },
   "file_extension": ".py",
   "mimetype": "text/x-python",
   "name": "python",
   "nbconvert_exporter": "python",
   "pygments_lexer": "ipython3",
   "version": "3.5.2"
  }
 },
 "nbformat": 4,
 "nbformat_minor": 2
}
