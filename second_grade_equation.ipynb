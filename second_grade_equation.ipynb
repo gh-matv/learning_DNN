{
 "cells": [
  {
   "cell_type": "code",
   "execution_count": 110,
   "metadata": {},
   "outputs": [
    {
     "data": {
      "text/plain": [
       "(array([ 1.,  2.,  3.,  4.,  5.,  6.,  7.,  8.,  9.], dtype=float32),\n",
       " array([  14.,   23.,   36.,   53.,   74.,   99.,  128.,  161.,  198.], dtype=float32))"
      ]
     },
     "execution_count": 110,
     "metadata": {},
     "output_type": "execute_result"
    }
   ],
   "source": [
    "import tensorflow as tf\n",
    "import matplotlib.pyplot as plt\n",
    "import numpy as np\n",
    "\n",
    "errors = []\n",
    "\n",
    "_x = np.array([1.,2.,3.,4.,5.,6.,7.,8.,9.], np.float32)\n",
    "\n",
    "# Here you enter your equation\n",
    "_y = (2*_x*_x+3*_x+9)\n",
    "\n",
    "_x,_y"
   ]
  },
  {
   "cell_type": "code",
   "execution_count": 111,
   "metadata": {},
   "outputs": [
    {
     "data": {
      "text/plain": [
       "<tf.Tensor 'Const_21:0' shape=(9,) dtype=float32>"
      ]
     },
     "execution_count": 111,
     "metadata": {},
     "output_type": "execute_result"
    }
   ],
   "source": [
    "x = tf.constant(_x)\n",
    "y = tf.cast(tf.constant(_y), tf.float32)\n",
    "\n",
    "a = tf.Variable(tf.zeros(1))\n",
    "b = tf.Variable(tf.zeros(1))\n",
    "c = tf.Variable(tf.zeros(1))\n",
    "\n",
    "learning_steps = 40000\n",
    "step_size = 0.00001"
   ]
  },
  {
   "cell_type": "code",
   "execution_count": 112,
   "metadata": {},
   "outputs": [],
   "source": [
    "yy = tf.cast(tf.pow(2.,a), tf.float32)*tf.cast(tf.multiply(x,x), tf.float32) + tf.multiply(b,x) + c\n",
    "\n",
    "deviation = tf.square(y-yy)\n",
    "train_step = tf.train.GradientDescentOptimizer(0.00001).minimize(deviation)"
   ]
  },
  {
   "cell_type": "code",
   "execution_count": 113,
   "metadata": {
    "scrolled": false
   },
   "outputs": [],
   "source": [
    "init = tf.global_variables_initializer()\n",
    "sess = tf.Session()\n",
    "sess.run(init)\n",
    "\n",
    "for i in range(learning_steps):\n",
    "    errors.append(sess.run(deviation))\n",
    "    ass.append(sess.run(a))\n",
    "    sess.run(train_step)"
   ]
  },
  {
   "cell_type": "code",
   "execution_count": 114,
   "metadata": {},
   "outputs": [
    {
     "name": "stdout",
     "output_type": "stream",
     "text": [
      "1.99584342998 x² + 3.04686 x + 8.89064\n"
     ]
    }
   ],
   "source": [
    "#f_ pour found_\n",
    "f_a = pow(2,sess.run(a)[0])\n",
    "f_b = sess.run(b)[0]\n",
    "f_c = sess.run(c)[0]\n",
    "print f_a, \"x² +\", f_b, \"x +\", f_c"
   ]
  },
  {
   "cell_type": "code",
   "execution_count": 115,
   "metadata": {},
   "outputs": [
    {
     "data": {
      "text/plain": [
       "array([[  1.69000000e+02,   3.61000000e+02,   7.29000000e+02, ...,\n",
       "          6.24100000e+03,   9.40900000e+03,   1.36890000e+04],\n",
       "       [  1.60408051e+02,   3.17637177e+02,   5.98361328e+02, ...,\n",
       "          4.33445703e+03,   6.38163672e+03,   9.10413281e+03],\n",
       "       [  1.50304443e+02,   2.66866272e+02,   4.49864624e+02, ...,\n",
       "          2.37011914e+03,   3.31163672e+03,   4.51685693e+03],\n",
       "       ..., \n",
       "       [  4.44278307e-03,   1.04051922e-03,   3.81429127e-05, ...,\n",
       "          2.25439668e-04,   2.23750249e-07,   5.89359784e-04],\n",
       "       [  4.44265595e-03,   1.04051922e-03,   3.81900463e-05, ...,\n",
       "          2.25439668e-04,   2.23750249e-07,   5.89359784e-04],\n",
       "       [  4.44252882e-03,   1.04051922e-03,   3.81429127e-05, ...,\n",
       "          2.25439668e-04,   2.09547579e-07,   5.88619150e-04]], dtype=float32)"
      ]
     },
     "execution_count": 115,
     "metadata": {},
     "output_type": "execute_result"
    }
   ],
   "source": [
    "errors = np.array(errors)\n",
    "errors"
   ]
  },
  {
   "cell_type": "code",
   "execution_count": 116,
   "metadata": {
    "scrolled": true
   },
   "outputs": [],
   "source": [
    "err1 = []\n",
    "err2 = []\n",
    "err3 = []\n",
    "\n",
    "for i in range(0,learning_steps):\n",
    "    err1.append(errors[i][0])\n",
    "    err2.append(errors[i][1])\n",
    "    err3.append(errors[i][3])"
   ]
  },
  {
   "cell_type": "code",
   "execution_count": 117,
   "metadata": {},
   "outputs": [
    {
     "data": {
      "image/png": "[encoded data removed]",
      "text/plain": [
       "<matplotlib.figure.Figure at 0x7f6eaa764fd0>"
      ]
     },
     "metadata": {},
     "output_type": "display_data"
    }
   ],
   "source": [
    "plt.plot(range(0,learning_steps),err1[0:learning_steps], \"r\",\n",
    "         range(0,learning_steps),err2[0:learning_steps], \"g\",\n",
    "         range(0,learning_steps),err3[0:learning_steps], \"b\")\n",
    "plt.show()"
   ]
  },
  {
   "cell_type": "code",
   "execution_count": 134,
   "metadata": {},
   "outputs": [
    {
     "data": {
      "image/png": "[encoded data removed]",
      "text/plain": [
       "<matplotlib.figure.Figure at 0x7f6eabab1d90>"
      ]
     },
     "metadata": {},
     "output_type": "display_data"
    },
    {
     "name": "stdout",
     "output_type": "stream",
     "text": [
      "1.99584342998 x² + 3.04686 x + 8.89064\n"
     ]
    }
   ],
   "source": [
    "plt.plot(range(1,10), _y, \"g\",\n",
    "         range(1,10), [(f_a*x*x+f_b*x+f_c) for x in range(1,10)], \"b\")\n",
    "plt.show()\n",
    "print f_a,\"x² +\",f_b,\"x +\",f_c"
   ]
  },
  {
   "cell_type": "code",
   "execution_count": null,
   "metadata": {
    "collapsed": true
   },
   "outputs": [],
   "source": []
  }
 ],
 "metadata": {
  "kernelspec": {
   "display_name": "Python 2",
   "language": "python",
   "name": "python2"
  },
  "language_info": {
   "codemirror_mode": {
    "name": "ipython",
    "version": 2
   },
   "file_extension": ".py",
   "mimetype": "text/x-python",
   "name": "python",
   "nbconvert_exporter": "python",
   "pygments_lexer": "ipython2",
   "version": "2.7.12"
  }
 },
 "nbformat": 4,
 "nbformat_minor": 2
}